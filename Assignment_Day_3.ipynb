{
  "nbformat": 4,
  "nbformat_minor": 0,
  "metadata": {
    "colab": {
      "name": "Assignment Day 3.ipynb",
      "provenance": []
    },
    "kernelspec": {
      "name": "python3",
      "display_name": "Python 3"
    }
  },
  "cells": [
    {
      "cell_type": "markdown",
      "metadata": {
        "id": "81tj2y5gARJ2",
        "colab_type": "text"
      },
      "source": [
        "My Grading System:\n",
        "90+ A\n",
        "80+ B\n",
        "70+ C\n",
        "60+ D\n",
        "50+ E\n",
        "below 50 FAIL"
      ]
    },
    {
      "cell_type": "markdown",
      "metadata": {
        "id": "utNaRN6lCoLG",
        "colab_type": "text"
      },
      "source": [
        "Q.1"
      ]
    },
    {
      "cell_type": "markdown",
      "metadata": {
        "id": "8YJR-XTg_FkX",
        "colab_type": "text"
      },
      "source": [
        "Taking User Input of MARKS"
      ]
    },
    {
      "cell_type": "code",
      "metadata": {
        "id": "zE9-XUd6-Qwb",
        "colab_type": "code",
        "outputId": "72691215-bd4e-4ae0-ef40-42412677f097",
        "colab": {
          "base_uri": "https://localhost:8080/",
          "height": 86
        }
      },
      "source": [
        "marks = int (input(\"Enter marks: \"))\n",
        "if marks >=90: print(\"|--------|\\n|   A    |\\n|--------|\")\n",
        "elif marks >= 80: print(\"|--------|\\n|   B    |\\n|--------|\")\n",
        "elif marks >= 70: print(\"|--------|\\n|   C    |\\n|--------|\")\n",
        "elif marks >= 60: print(\"|--------|\\n|   D    |\\n|--------|\")\n",
        "elif marks >= 50: print(\"|--------|\\n|   E    |\\n|--------|\")\n",
        "else: print(\"|--------|\\n| FAIL  |\\n|--------|\")"
      ],
      "execution_count": 58,
      "outputs": [
        {
          "output_type": "stream",
          "text": [
            "Enter marks: 500\n",
            "|--------|\n",
            "|   A    |\n",
            "|--------|\n"
          ],
          "name": "stdout"
        }
      ]
    },
    {
      "cell_type": "markdown",
      "metadata": {
        "id": "EEoIhcl78Ypy",
        "colab_type": "text"
      },
      "source": [
        "Q.2\n",
        "Cricket Score"
      ]
    },
    {
      "cell_type": "code",
      "metadata": {
        "id": "5ZNdgL2m8gbf",
        "colab_type": "code",
        "colab": {
          "base_uri": "https://localhost:8080/",
          "height": 51
        },
        "outputId": "021a1580-215f-40bd-d7e4-70316001517f"
      },
      "source": [
        "import random\n",
        "number = random.randint(1,250)\n",
        "# print(number)\n",
        "user_guess = int(input(\"Guess a Number: \"))\n",
        "if (user_guess<1) or (user_guess>250): print(\"Reduce your expectation for 20-20 Cricket\")\n",
        "elif number - 10 <= user_guess <= number + 10: print(\"Close By, you are True Indian Fan!\")\n",
        "else: \n",
        "    print(\"You don't watch that much! :P\")"
      ],
      "execution_count": 22,
      "outputs": [
        {
          "output_type": "stream",
          "text": [
            "Guess a Number: 46\n",
            "You don't watch that much! :P\n"
          ],
          "name": "stdout"
        }
      ]
    },
    {
      "cell_type": "markdown",
      "metadata": {
        "id": "Ffn3gDLFB8Cu",
        "colab_type": "text"
      },
      "source": [
        "Q. 3 File Handling"
      ]
    },
    {
      "cell_type": "code",
      "metadata": {
        "id": "NNufduNsCAcH",
        "colab_type": "code",
        "colab": {}
      },
      "source": [
        "file_handle = open(\"assignment.txt\",\"w\")\n",
        "file_handle.write(\"I love FCS\")\n",
        "file_handle.close()"
      ],
      "execution_count": 0,
      "outputs": []
    },
    {
      "cell_type": "code",
      "metadata": {
        "id": "2NOjh9kgCnJ9",
        "colab_type": "code",
        "colab": {
          "base_uri": "https://localhost:8080/",
          "height": 34
        },
        "outputId": "e1ee22b1-dc93-4e2b-d5e9-e6286cda1525"
      },
      "source": [
        "file_read = open(\"assignment.txt\",\"r\")\n",
        "content = file_read.read()\n",
        "print(content)\n",
        "file_read.close()"
      ],
      "execution_count": 24,
      "outputs": [
        {
          "output_type": "stream",
          "text": [
            "I love FCS\n"
          ],
          "name": "stdout"
        }
      ]
    },
    {
      "cell_type": "markdown",
      "metadata": {
        "id": "eelV1AqoEVjR",
        "colab_type": "text"
      },
      "source": [
        "Q.4 Facebook Restriction"
      ]
    },
    {
      "cell_type": "code",
      "metadata": {
        "id": "xFsM64HpEbTV",
        "colab_type": "code",
        "colab": {
          "base_uri": "https://localhost:8080/",
          "height": 155
        },
        "outputId": "7b867d78-ee20-41f6-a47e-05ad2c0c4778"
      },
      "source": [
        "min_dim = int(input(\"Enter minimum dimension: \"))\n",
        "num_of_pic = int(input(\"Enter number of photos:\"))\n",
        "for x in range(0, num_of_pic):\n",
        "    width,length = input(\"Enter width  & length of your Photo: (!Give a space between the two values!): \").split()\n",
        "    if int(width)<min_dim or int(length) < min_dim: print(\"Upload Another!\")\n",
        "    elif int(width) == int(length): print(\"ACCEPTED!\")\n",
        "    else: print(\"CROP IT!\")"
      ],
      "execution_count": 45,
      "outputs": [
        {
          "output_type": "stream",
          "text": [
            "Enter minimum dimension: 2\n",
            "Enter number of photos:3\n",
            "Enter width  & length of your Photo: (!Give a space between the two values!): 1 1\n",
            "Upload Another!\n",
            "Enter width  & length of your Photo: (!Give a space between the two values!): 3 4\n",
            "CROP IT!\n",
            "Enter width  & length of your Photo: (!Give a space between the two values!): 6 6\n",
            "ACCEPTED!\n"
          ],
          "name": "stdout"
        }
      ]
    },
    {
      "cell_type": "markdown",
      "metadata": {
        "id": "PvG8XbOkN2DZ",
        "colab_type": "text"
      },
      "source": [
        "Q. 5 Maze Game"
      ]
    },
    {
      "cell_type": "code",
      "metadata": {
        "id": "olrZFtEgN5PZ",
        "colab_type": "code",
        "colab": {
          "base_uri": "https://localhost:8080/",
          "height": 399
        },
        "outputId": "254d2680-47c8-4833-c760-763341a74535"
      },
      "source": [
        "print(\"\"\"Enter 'L' for traversing to left;\n",
        "'R' for traversing to right;\n",
        "'U' for traversing up &\n",
        "'D' for traversing down\"\"\")\n",
        "print(\"You are at: (0,0)\")\n",
        "repeat_for =int(input(\"How many times would you like to traverse?\\n\"))\n",
        "# direction = input(\"Where would you traverse?\\n\")\n",
        "x_coords, y_coords = 0, 0\n",
        "for x in range (0,repeat_for):\n",
        "    direction = input(\"Where would you traverse?\\n\")\n",
        "    if(direction == \"L\"): x_coords -= 1\n",
        "    if(direction == \"R\"): x_coords += 1\n",
        "    if(direction == \"U\"): y_coords += 1\n",
        "    if(direction == \"D\"): y_coords -= 1\n",
        "    print(\"You traversed to:\", (x_coords, y_coords))"
      ],
      "execution_count": 72,
      "outputs": [
        {
          "output_type": "stream",
          "text": [
            "Enter 'L' for traversing to left;\n",
            "'R' for traversing to right;\n",
            "'U' for traversing up &\n",
            "'D' for traversing down\n",
            "You are at: (0,0)\n",
            "How many times would you like to traverse?\n",
            "5\n",
            "Where would you traverse?\n",
            "L\n",
            "You traversed to: (-1, 0)\n",
            "Where would you traverse?\n",
            "U\n",
            "You traversed to: (-1, 1)\n",
            "Where would you traverse?\n",
            "R\n",
            "You traversed to: (0, 1)\n",
            "Where would you traverse?\n",
            "R\n",
            "You traversed to: (1, 1)\n",
            "Where would you traverse?\n",
            "D\n",
            "You traversed to: (1, 0)\n"
          ],
          "name": "stdout"
        }
      ]
    }
  ]
}